{
 "cells": [
  {
   "cell_type": "code",
   "execution_count": 1,
   "metadata": {},
   "outputs": [
    {
     "name": "stderr",
     "output_type": "stream",
     "text": [
      "/opt/dlami/nvme/anaconda3/envs/alinllm/lib/python3.10/site-packages/tqdm/auto.py:21: TqdmWarning: IProgress not found. Please update jupyter and ipywidgets. See https://ipywidgets.readthedocs.io/en/stable/user_install.html\n",
      "  from .autonotebook import tqdm as notebook_tqdm\n"
     ]
    }
   ],
   "source": [
    "from transformers import AutoTokenizer, AutoModelForCausalLM,AutoConfig\n",
    "import torch"
   ]
  },
  {
   "cell_type": "code",
   "execution_count": 2,
   "metadata": {},
   "outputs": [],
   "source": [
    "model_dir = '/opt/dlami/nvme/llm_training/minillm/results/kd_llama_2/e1-bs1-lr1e-05-G4-N8-NN1-kd0.5/5'\n",
    "# config = AutoConfig.from_pretrained(model_dir)\n",
    "\n",
    "model = AutoModelForCausalLM.from_pretrained(model_dir,device_map = 'cuda:0',torch_dtype=torch.bfloat16)\n",
    "tokenizer = AutoTokenizer.from_pretrained(model_dir)"
   ]
  },
  {
   "cell_type": "code",
   "execution_count": 4,
   "metadata": {},
   "outputs": [
    {
     "name": "stderr",
     "output_type": "stream",
     "text": [
      "Setting `pad_token_id` to `eos_token_id`:128001 for open-end generation.\n"
     ]
    },
    {
     "ename": "AttributeError",
     "evalue": "'Tensor' object has no attribute 'logits'",
     "output_type": "error",
     "traceback": [
      "\u001b[0;31m---------------------------------------------------------------------------\u001b[0m",
      "\u001b[0;31mAttributeError\u001b[0m                            Traceback (most recent call last)",
      "Cell \u001b[0;32mIn[4], line 4\u001b[0m\n\u001b[1;32m      2\u001b[0m inputs \u001b[38;5;241m=\u001b[39m tokenizer(x, return_tensors\u001b[38;5;241m=\u001b[39m\u001b[38;5;124m'\u001b[39m\u001b[38;5;124mpt\u001b[39m\u001b[38;5;124m'\u001b[39m)\n\u001b[1;32m      3\u001b[0m output \u001b[38;5;241m=\u001b[39m model\u001b[38;5;241m.\u001b[39mgenerate(\u001b[38;5;241m*\u001b[39m\u001b[38;5;241m*\u001b[39minputs\u001b[38;5;241m.\u001b[39mto(\u001b[38;5;124m'\u001b[39m\u001b[38;5;124mcuda:0\u001b[39m\u001b[38;5;124m'\u001b[39m), max_length\u001b[38;5;241m=\u001b[39m\u001b[38;5;241m4096\u001b[39m)\n\u001b[0;32m----> 4\u001b[0m \u001b[38;5;28mprint\u001b[39m(tokenizer\u001b[38;5;241m.\u001b[39mdecode(\u001b[43moutput\u001b[49m\u001b[38;5;241;43m.\u001b[39;49m\u001b[43mlogits\u001b[49m))\n",
      "\u001b[0;31mAttributeError\u001b[0m: 'Tensor' object has no attribute 'logits'"
     ]
    }
   ],
   "source": [
    "x = '안녕하세요'\n",
    "inputs = tokenizer(x, return_tensors='pt')\n",
    "output = model.generate(**inputs.to('cuda:0'), max_length=4096)\n"
   ]
  },
  {
   "cell_type": "code",
   "execution_count": 9,
   "metadata": {},
   "outputs": [
    {
     "name": "stdout",
     "output_type": "stream",
     "text": [
      "<|begin_of_text|>안녕하세요. 10월 1일부터 4일까지 4일간의 세미나를 개최하고자 합니다. \n",
      "제목:  From 2D to 3D: New Perspectives on the Development of the Human Brain\n",
      "일시: 10월 1일(화) ~ 10월 4일(금)  10:00-11:30\n",
      "장소:  서울대학교 화학과 1301호 (서울대 화학과 1동 3층)\n",
      "주최:  서울대학교 화학과, 서울대학교 의과대학\n",
      "연사:  Dr. John Moran, University of Minnesota\n",
      "초록:  In the past decade, a number of new technologies have been developed to non-invasively image the developing brain.  These include MRI, diffusion tensor imaging (DTI), and near-infrared spectroscopy (NIRS).  These technologies have been used to study the developing brain in both normal and abnormal conditions.  We have been using NIRS to study the developing brain in both normal and abnormal conditions.  In normal development, we have found that the hemodynamic response is delayed in the prefrontal cortex, relative to the primary visual cortex, in the first year of life.  This delay is consistent with the idea that the prefrontal cortex develops later than the primary visual cortex.  In abnormal conditions, we have found that the hemodynamic response is altered in autism, relative to normal development.  In addition, we have found that the hemodynamic response is altered in fragile X syndrome, relative to normal development.  In the future, we hope to use these technologies to study the developing brain in other abnormal conditions.\n",
      "주요연사:  Dr. John Moran, University of Minnesota\n",
      "Dr. John Moran is a Professor of Pediatrics and Neurology at the University of Minnesota.  He is the Director of the Pediatric Neuroimaging Research Core at the University of Minnesota.  He received his B.S. in Physics from the University of Illinois at Urbana-Champaign in 1976 and his Ph.D. in Biophysics from the University of California at Berkeley in 1981.  He was a postdoctoral fellow at the University of California at San Francisco and at the University of Minnesota.  He has been at the University of Minnesota since 1986.  His research interests include neuroimaging of the developing brain, neuroimaging of the epileptic brain, and neuroimaging of the brain in autism.<|end_of_text|>\n"
     ]
    }
   ],
   "source": [
    "print(tokenizer.decode(output[0]))"
   ]
  },
  {
   "cell_type": "code",
   "execution_count": 8,
   "metadata": {},
   "outputs": [
    {
     "data": {
      "text/plain": [
       "torch.Size([1, 551])"
      ]
     },
     "execution_count": 8,
     "metadata": {},
     "output_type": "execute_result"
    }
   ],
   "source": [
    "output.shape"
   ]
  },
  {
   "cell_type": "code",
   "execution_count": 16,
   "metadata": {},
   "outputs": [
    {
     "data": {
      "text/plain": [
       "{'input_ids': [128000, 101193, 124409], 'attention_mask': [1, 1, 1]}"
      ]
     },
     "execution_count": 16,
     "metadata": {},
     "output_type": "execute_result"
    }
   ],
   "source": [
    "inputs"
   ]
  }
 ],
 "metadata": {
  "kernelspec": {
   "display_name": "base",
   "language": "python",
   "name": "python3"
  },
  "language_info": {
   "codemirror_mode": {
    "name": "ipython",
    "version": 3
   },
   "file_extension": ".py",
   "mimetype": "text/x-python",
   "name": "python",
   "nbconvert_exporter": "python",
   "pygments_lexer": "ipython3",
   "version": "3.10.14"
  }
 },
 "nbformat": 4,
 "nbformat_minor": 2
}
